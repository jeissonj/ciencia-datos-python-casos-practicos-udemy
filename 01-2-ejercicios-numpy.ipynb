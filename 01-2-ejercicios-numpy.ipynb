{
 "cells": [
  {
   "cell_type": "code",
   "execution_count": 5,
   "metadata": {},
   "outputs": [],
   "source": [
    "import numpy as np"
   ]
  },
  {
   "cell_type": "code",
   "execution_count": 6,
   "metadata": {},
   "outputs": [
    {
     "name": "stdout",
     "output_type": "stream",
     "text": [
      "la suma de las matrices es [[ 6  8]\n",
      " [10  4]]\n"
     ]
    }
   ],
   "source": [
    "m1 = np.array([[1,2],[3,4]])\n",
    "m2 = np.array([[5,6],[7,0]])\n",
    "msuma = m1 + m2 \n",
    "print(f\"la suma de las matrices es {msuma}\")"
   ]
  },
  {
   "cell_type": "code",
   "execution_count": 7,
   "metadata": {},
   "outputs": [
    {
     "name": "stdout",
     "output_type": "stream",
     "text": [
      "El arreglo es [0. 1. 2. 3. 4. 5. 6. 7. 8. 9.]\n"
     ]
    }
   ],
   "source": [
    "#generar un array con valores espaciados \n",
    "arreglo = np.linspace(0,9,10)\n",
    "print(f\"El arreglo es {arreglo}\")"
   ]
  },
  {
   "cell_type": "code",
   "execution_count": 8,
   "metadata": {},
   "outputs": [
    {
     "name": "stdout",
     "output_type": "stream",
     "text": [
      "El arreglo dado es [ 3  6  9 12 15], la suma es 45, la media es 9.0, el maximo es 15 y el minimo es 3\n"
     ]
    }
   ],
   "source": [
    "# operaciones estadisticas \n",
    "arreglo = np.array([3,6,9,12,15])\n",
    "print(f\"El arreglo dado es {arreglo}, la suma es {np.sum(arreglo)}, la media es {np.mean(arreglo)}, el maximo es {np.max(arreglo)} y el minimo es {np.min(arreglo)}\")"
   ]
  },
  {
   "cell_type": "markdown",
   "metadata": {},
   "source": [
    "### Numpy en la ciencia de datos "
   ]
  },
  {
   "cell_type": "code",
   "execution_count": 9,
   "metadata": {},
   "outputs": [
    {
     "name": "stdout",
     "output_type": "stream",
     "text": [
      "imprimimos los primeros 10 [0.06161677 0.55719342 0.30084704 0.6070332  0.2889631  0.57770607\n",
      " 0.93761848 0.37757836 0.42497841 0.26105471]\n"
     ]
    }
   ],
   "source": [
    "# generar 1000 datos aleatorios entre cero y uno\n",
    "datos_aleatorios = np.random.rand(1000)\n",
    "print(f\"imprimimos los primeros 10 {datos_aleatorios[:10]}\")"
   ]
  },
  {
   "cell_type": "code",
   "execution_count": 10,
   "metadata": {},
   "outputs": [
    {
     "name": "stdout",
     "output_type": "stream",
     "text": [
      " meida 23.11111111111111\n",
      " mediana 22.0\n",
      " desviación estandar 3.813556067051225\n"
     ]
    }
   ],
   "source": [
    "# calcular estadisticas sobre estos datos \n",
    "datos = np.array([22,18,25,30,28,24,20,19,22])\n",
    "media = np.mean(datos)\n",
    "mediana = np.median(datos)\n",
    "des_estandar = np.std(datos)\n",
    "print(f\" meida {media}\\n mediana {mediana}\\n desviación estandar {des_estandar}\")"
   ]
  },
  {
   "cell_type": "code",
   "execution_count": 11,
   "metadata": {},
   "outputs": [
    {
     "name": "stdout",
     "output_type": "stream",
     "text": [
      " Los datos son [12  8 15 10  6 18 14  9 11]\n",
      " el umbral escojido fue 10\n",
      " datos seleccionados [12 15 18 14 11]\n"
     ]
    }
   ],
   "source": [
    "# indessacion y seleccion de datos \n",
    "datos = np.array([12, 8,15,10,6,18,14,9,11])\n",
    "umbral = 10\n",
    "datos_seleccionados = datos[datos > umbral]\n",
    "print(f\" Los datos son {datos}\\n el umbral escojido fue {umbral}\\n datos seleccionados {datos_seleccionados}\")"
   ]
  },
  {
   "cell_type": "code",
   "execution_count": 13,
   "metadata": {},
   "outputs": [
    {
     "name": "stdout",
     "output_type": "stream",
     "text": [
      "La matriz original es\n",
      " [[1 2 3]\n",
      " [4 5 6]\n",
      " [7 8 9]] \n",
      " la matriz transpuesta es\n",
      " [[1 4 7]\n",
      " [2 5 8]\n",
      " [3 6 9]]\n",
      " y el producto de la matriz es\n",
      " [[ 30  36  42]\n",
      " [ 66  81  96]\n",
      " [102 126 150]]\n"
     ]
    }
   ],
   "source": [
    "matriz = np.array([[1,2,3],[4,5,6],[7,8,9]])\n",
    "matriz_transpuesta = matriz.T\n",
    "matriz_producto = np.dot(matriz,matriz)\n",
    "print(f\"La matriz original es\\n {matriz} \\n la matriz transpuesta es\\n {matriz_transpuesta}\\n y el producto de la matriz es\\n {matriz_producto}\")"
   ]
  },
  {
   "cell_type": "code",
   "execution_count": 15,
   "metadata": {},
   "outputs": [
    {
     "name": "stdout",
     "output_type": "stream",
     "text": [
      "Arreglo unidimensional\n",
      " [0 1 2 3 4 5 6 7 8 9]\n",
      " matriz rechape\n",
      " [[0 1 2 3 4]\n",
      " [5 6 7 8 9]]\n",
      " Matriz concatenada\n",
      " [[ 0  1  2  3  4]\n",
      " [ 5  6  7  8  9]\n",
      " [11 12 13 14 15]\n",
      " [16 17 18 19 20]]\n"
     ]
    }
   ],
   "source": [
    "arreglo_unidimensional = np.arange(10)\n",
    "matriz_reshaped = arreglo_unidimensional.reshape(2,5)\n",
    "matriz44 = np.array([[11,12,13,14,15],[16,17,18,19,20]])\n",
    "matriz_concat = np.concatenate((matriz_reshaped,matriz44), axis = 0)\n",
    "#  0 significa a lo largo de la columna \n",
    "print(f\"Arreglo unidimensional\\n {arreglo_unidimensional}\\n matriz rechape\\n {matriz_reshaped}\\n Matriz concatenada\\n {matriz_concat}\")"
   ]
  },
  {
   "cell_type": "code",
   "execution_count": null,
   "metadata": {},
   "outputs": [],
   "source": []
  }
 ],
 "metadata": {
  "kernelspec": {
   "display_name": "Python 3",
   "language": "python",
   "name": "python3"
  },
  "language_info": {
   "codemirror_mode": {
    "name": "ipython",
    "version": 3
   },
   "file_extension": ".py",
   "mimetype": "text/x-python",
   "name": "python",
   "nbconvert_exporter": "python",
   "pygments_lexer": "ipython3",
   "version": "3.12.2"
  }
 },
 "nbformat": 4,
 "nbformat_minor": 2
}
