{
 "cells": [
  {
   "cell_type": "code",
   "execution_count": 2,
   "metadata": {},
   "outputs": [],
   "source": [
    "import numpy as np"
   ]
  },
  {
   "cell_type": "code",
   "execution_count": 5,
   "metadata": {},
   "outputs": [
    {
     "name": "stdout",
     "output_type": "stream",
     "text": [
      "[1, 2, 3, 4, 5, 6] <class 'numpy.ndarray'> [1 2 3 4 5 6]\n"
     ]
    }
   ],
   "source": [
    "l :list = [1,2,3,4,5,6]\n",
    "array = np.array(l)\n",
    "print(l,type(array),array)"
   ]
  },
  {
   "cell_type": "code",
   "execution_count": 6,
   "metadata": {},
   "outputs": [],
   "source": [
    "l2 :list = [[1,2,3],[2,5,6],[4,4,5]]\n",
    "array2 = np.array(l2)\n"
   ]
  },
  {
   "cell_type": "code",
   "execution_count": 7,
   "metadata": {},
   "outputs": [
    {
     "data": {
      "text/plain": [
       "array([[1, 2, 3],\n",
       "       [2, 5, 6],\n",
       "       [4, 4, 5]])"
      ]
     },
     "execution_count": 7,
     "metadata": {},
     "output_type": "execute_result"
    }
   ],
   "source": [
    "array2"
   ]
  },
  {
   "cell_type": "code",
   "execution_count": 23,
   "metadata": {},
   "outputs": [
    {
     "name": "stdout",
     "output_type": "stream",
     "text": [
      "[0 1 2 3 4 5] [ 2  4  6  8 10 12 14]\n"
     ]
    }
   ],
   "source": [
    "array = np.arange(6)\n",
    "array3 = np.arange(2,15,2)\n",
    "print(array, array3)"
   ]
  },
  {
   "cell_type": "code",
   "execution_count": 15,
   "metadata": {},
   "outputs": [
    {
     "name": "stdout",
     "output_type": "stream",
     "text": [
      "[[0. 0. 0. 0. 0.]\n",
      " [0. 0. 0. 0. 0.]\n",
      " [0. 0. 0. 0. 0.]\n",
      " [0. 0. 0. 0. 0.]] [[1. 1. 1. 1. 1.]\n",
      " [1. 1. 1. 1. 1.]\n",
      " [1. 1. 1. 1. 1.]\n",
      " [1. 1. 1. 1. 1.]] [[1. 0. 0. 0.]\n",
      " [0. 1. 0. 0.]\n",
      " [0. 0. 1. 0.]\n",
      " [0. 0. 0. 1.]] [0.00920387 0.47274993 0.68522784 0.0674392 ] [14 29 18 42 31 23 13 24 29 26 13 40 31 14 15 20 38 13 50 45 39 47 16 32\n",
      "  2 25 29  1 15 45 46 16 28  7 48 28 14 41 26 28 29 25 27 36 39 34 14 12\n",
      " 25 22]\n"
     ]
    }
   ],
   "source": [
    "m0 = np.zeros((4,5))\n",
    "m1 = np.ones((4,5))\n",
    "mi = np.eye(4)\n",
    "mran =np.random.rand(4)\n",
    "mrna2 = np.random.randint(1,51,50)\n",
    "\n",
    "print(m0,m1,mi,mran,mrna2)"
   ]
  },
  {
   "cell_type": "code",
   "execution_count": 18,
   "metadata": {},
   "outputs": [
    {
     "name": "stdout",
     "output_type": "stream",
     "text": [
      "[ 82  91  26 165 114  25   5 158 127  95 125   6 189  33  14 153  22  59\n",
      " 132  22  54  72 127   5  36 135 150  61  43 105]\n"
     ]
    }
   ],
   "source": [
    "mrna2 = np.random.randint(1,201,30)\n",
    "print(mrna2)"
   ]
  },
  {
   "cell_type": "code",
   "execution_count": 13,
   "metadata": {},
   "outputs": [
    {
     "name": "stdout",
     "output_type": "stream",
     "text": [
      "[[187  35 150 108 120 197]\n",
      " [138 111 200  64  63 153]\n",
      " [194  18   5  66   8  39]\n",
      " [ 58  73  37  28   6  67]\n",
      " [ 26 103  19  54 174 154]]\n"
     ]
    }
   ],
   "source": [
    "array = np.random.randint(1,201,30)\n",
    "matriz = array.reshape(5,6)\n",
    "print(m)"
   ]
  },
  {
   "cell_type": "code",
   "execution_count": 9,
   "metadata": {},
   "outputs": [
    {
     "name": "stdout",
     "output_type": "stream",
     "text": [
      "[804 700 535 347 281 117 739 369 675 577 715 881 324 757 196 279 750  16\n",
      " 733 537 294 787 641 305 759 423 531 520 825 753  32 476 541 173 134 346\n",
      " 427 843 369 836  77 741 775 611  60 195 193 527 851 283 316 725 625 333\n",
      " 633 512 246 655 275 572 450   8 435 668 770 836 684 307 511  44 503 319\n",
      " 851 363 472  63 596 630 612 260 468 266 530 402 699 839 833 278 435 228\n",
      "  55  95 688 765 230 355  47 219 485 759 788   5 502 593 302 352 326  14\n",
      " 106 183 333 695 144 360 343 784 568 288 638 654 808 659 511  60 852 116\n",
      " 179 858  83 507 223 500 443 432 686 253 812 533 109 290  84 713  14 550\n",
      " 581 119 536 298 290 854 541 419 329 286 170 515 127 551 877 598 482 610\n",
      " 505 655 390 690 209 495 554 807 834 152 419 668 487 668 598 581 761 123\n",
      " 549 472 749 304 804 122 806 666 214 481 620 799 326 858 232 787 890 363\n",
      " 184 482]\n",
      "El valor maximo es 890\n",
      "196\n",
      "El minimo es 5\n",
      "101\n"
     ]
    }
   ],
   "source": [
    "array = np.random.randint(1,901,200)\n",
    "print(array)\n",
    "#para saber el numero maximo\n",
    "maximo = array.max()\n",
    "print(f\"El valor maximo es {maximo}\")\n",
    "print(array.argmax())\n",
    "\n",
    "\n",
    "minimo = array.min()\n",
    "print(f\"El minimo es {minimo}\")\n",
    "print(array.argmin())\n"
   ]
  },
  {
   "cell_type": "code",
   "execution_count": 10,
   "metadata": {},
   "outputs": [
    {
     "name": "stdout",
     "output_type": "stream",
     "text": [
      "[ 1  2  3  4  5  6  7  8  9 10]\n",
      "3\n",
      "[ 6  7  8  9 10]\n",
      "[1 2 3 4 5 6]\n"
     ]
    }
   ],
   "source": [
    "array = np.arange(1,11)  #genera del cero al 10\n",
    "print(array)\n",
    "print(array[2])\n",
    "print(array[5:])\n",
    "print(array[:6])\n"
   ]
  },
  {
   "cell_type": "code",
   "execution_count": 12,
   "metadata": {},
   "outputs": [
    {
     "name": "stdout",
     "output_type": "stream",
     "text": [
      "[ 1  2  3  4  5  6  7  8  9 10]\n",
      "[ 1  2  3  4  5  6  7  8  9 10]\n",
      "10000000000000000000000000000000000000000000000000000000000000000000000000000000000000000000000000000\n",
      "[ 1  2  3  4  5  6  7  8  9 10]\n",
      "[  1   2   3   4 100   6   7   8   9  10]\n"
     ]
    }
   ],
   "source": [
    "array = np.arange(1,11)\n",
    "array2 = array.copy()\n",
    "print(array)\n",
    "print(array2)\n",
    "array2[4] = 100\n",
    "print(10**100)\n",
    "print(array)\n",
    "print(array2)"
   ]
  },
  {
   "cell_type": "code",
   "execution_count": 22,
   "metadata": {},
   "outputs": [
    {
     "name": "stdout",
     "output_type": "stream",
     "text": [
      "[[112 118   6 120 128  75]\n",
      " [174  34 166  71  10 151]\n",
      " [ 92 117 160 169 176 104]\n",
      " [ 39  13 147  50  59 159]\n",
      " [196  45  30  69  70  29]]\n",
      "[112 118   6 120 128  75]\n",
      "[[112 118   6 120 128  75]\n",
      " [174  34 166  71  10 151]]\n",
      "166\n"
     ]
    }
   ],
   "source": [
    "array = np.random.randint(1,201,30)\n",
    "matriz = array.reshape(5,6)\n",
    "print(matriz)\n",
    "print(matriz[0])  #primrea linea de la matriz\n",
    "print(matriz[:2])  #sini seleccion de filas, selecciona las dos primeras filas \n",
    "print(matriz[1][2])\n",
    "\n"
   ]
  },
  {
   "cell_type": "code",
   "execution_count": 23,
   "metadata": {},
   "outputs": [
    {
     "name": "stdout",
     "output_type": "stream",
     "text": [
      "[[112]\n",
      " [174]\n",
      " [ 92]\n",
      " [ 39]\n",
      " [196]]\n"
     ]
    }
   ],
   "source": [
    "print(matriz[:, :1]) #antes de la coma se selecciona todo lo que esta antes"
   ]
  },
  {
   "cell_type": "code",
   "execution_count": 31,
   "metadata": {},
   "outputs": [
    {
     "name": "stdout",
     "output_type": "stream",
     "text": [
      "[[ 61 158 139 101 185 153]\n",
      " [195  37 180 110 105  95]\n",
      " [200 195 141 112 186  37]\n",
      " [ 70 176 134  31  97 143]\n",
      " [ 92  20  37 108  30 103]]\n",
      "**************************************************\n",
      "[[ 71 168 149 111 195 163]\n",
      " [205  47 190 120 115 105]\n",
      " [210 205 151 122 196  47]\n",
      " [ 80 186 144  41 107 153]\n",
      " [102  30  47 118  40 113]]\n",
      "**************************************************\n",
      "[[122 316 278 202 370 306]\n",
      " [390  74 360 220 210 190]\n",
      " [400 390 282 224 372  74]\n",
      " [140 352 268  62 194 286]\n",
      " [184  40  74 216  60 206]]\n",
      "**************************************************\n",
      "[[ 610 1580 1390 1010 1850 1530]\n",
      " [1950  370 1800 1100 1050  950]\n",
      " [2000 1950 1410 1120 1860  370]\n",
      " [ 700 1760 1340  310  970 1430]\n",
      " [ 920  200  370 1080  300 1030]]\n"
     ]
    }
   ],
   "source": [
    "array = np.random.randint(1,201,30)\n",
    "matriz = array.reshape(5,6)\n",
    "print(matriz)\n",
    "print(\"*\"*50)\n",
    "# en numpy la suma es directa cuando es escalar + matriz\n",
    "print(matriz+10)\n",
    "print(\"*\"*50)\n",
    "print(matriz+matriz)\n",
    "print(\"*\"*50)\n",
    "print(matriz*10)\n",
    "\n"
   ]
  },
  {
   "cell_type": "code",
   "execution_count": 36,
   "metadata": {},
   "outputs": [
    {
     "name": "stdout",
     "output_type": "stream",
     "text": [
      "[[ 60  13  51 198  25 152]\n",
      " [195 118 151 114  85 131]\n",
      " [ 34 100  21 102   5 198]\n",
      " [ 93   1  26  46   8 199]\n",
      " [ 72  27  86  44 128 115]] 199\n"
     ]
    }
   ],
   "source": [
    "array = np.random.randint(1,201,30)\n",
    "matriz = array.reshape(5,6) \n",
    "print(matriz, np.max(matriz))\n"
   ]
  },
  {
   "cell_type": "code",
   "execution_count": 38,
   "metadata": {},
   "outputs": [
    {
     "name": "stdout",
     "output_type": "stream",
     "text": [
      "[[False  True  True  True False False]\n",
      " [False False  True False  True False]\n",
      " [ True False  True False False  True]\n",
      " [False False  True  True  True False]\n",
      " [False False False  True  True False]]\n"
     ]
    }
   ],
   "source": [
    "array = np.random.randint(1,201,30)\n",
    "matriz = array.reshape(5,6)\n",
    "condicion = matriz > 100\n",
    "print(condicion)"
   ]
  },
  {
   "cell_type": "code",
   "execution_count": 40,
   "metadata": {},
   "outputs": [
    {
     "name": "stdout",
     "output_type": "stream",
     "text": [
      "[[False  True False  True  True  True]\n",
      " [False  True False  True False  True]\n",
      " [False False  True  True False  True]\n",
      " [False  True  True  True  True  True]\n",
      " [ True False False  True  True  True]]\n",
      "[112 124  34  32  80  32  88 118  78 110  60 170 128 138  24  16 188 174\n",
      "   6]\n"
     ]
    }
   ],
   "source": [
    "condiciones = (matriz % 2 == 0)\n",
    "print(condiciones)\n",
    "print(matriz[condiciones])"
   ]
  },
  {
   "cell_type": "code",
   "execution_count": 45,
   "metadata": {},
   "outputs": [
    {
     "name": "stdout",
     "output_type": "stream",
     "text": [
      "[[ 5  6  7  8  9 10 11 12 13 14 15 16]\n",
      " [17 18 19 20 21 22 23 24 25 26 27 28]\n",
      " [29 30 31 32 33 34 35 36 37 38 39 40]] \n",
      " 33\n"
     ]
    }
   ],
   "source": [
    "lista = np.arange(5,41)\n",
    "# se tiene una dimencion cpn varios indices\n",
    "lista = lista.reshape(3,12)\n",
    "print(lista, \"\\n\", lista[2,4])\n"
   ]
  },
  {
   "cell_type": "code",
   "execution_count": 46,
   "metadata": {},
   "outputs": [
    {
     "name": "stdout",
     "output_type": "stream",
     "text": [
      "la combinación de la lotería es [49 43 18  7 40 18]\n"
     ]
    }
   ],
   "source": [
    "array_primitiva = np.random.randint(1,50,6)\n",
    "print(f\"la combinación de la lotería es {array_primitiva}\")"
   ]
  },
  {
   "cell_type": "code",
   "execution_count": null,
   "metadata": {},
   "outputs": [],
   "source": []
  }
 ],
 "metadata": {
  "kernelspec": {
   "display_name": "Python 3",
   "language": "python",
   "name": "python3"
  },
  "language_info": {
   "codemirror_mode": {
    "name": "ipython",
    "version": 3
   },
   "file_extension": ".py",
   "mimetype": "text/x-python",
   "name": "python",
   "nbconvert_exporter": "python",
   "pygments_lexer": "ipython3",
   "version": "3.12.2"
  }
 },
 "nbformat": 4,
 "nbformat_minor": 2
}
